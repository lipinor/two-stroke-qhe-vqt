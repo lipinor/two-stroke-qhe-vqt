{
 "cells": [
  {
   "cell_type": "code",
   "execution_count": 1,
   "id": "1e48d016",
   "metadata": {},
   "outputs": [
    {
     "name": "stderr",
     "output_type": "stream",
     "text": [
      "/tmp/ipykernel_285599/2301690647.py:19: DeprecationWarning: The qiskit.ignis package is deprecated and has been supersceded by the qiskit-experiments project. Refer to the migration guide: https://github.com/Qiskit/qiskit-ignis#migration-guide on how to migrate to the new project.\n",
      "  from qiskit.ignis.verification.tomography import state_tomography_circuits, StateTomographyFitter\n"
     ]
    }
   ],
   "source": [
    "import pennylane as qml\n",
    "from matplotlib import pyplot as plt\n",
    "import numpy as np\n",
    "from numpy import array\n",
    "import scipy\n",
    "from scipy.optimize import minimize\n",
    "import itertools\n",
    "\n",
    "#Qiskit\n",
    "from qiskit import *\n",
    "from qiskit.circuit import Parameter\n",
    "import qiskit.quantum_info as qi\n",
    "from qiskit.providers.aer.noise import NoiseModel\n",
    "from qiskit.providers.ibmq import least_busy\n",
    "from qiskit.tools.monitor import job_monitor\n",
    "from qiskit.visualization import plot_histogram\n",
    "from qiskit.opflow import I, X, Y, Z\n",
    "\n",
    "from qiskit.ignis.verification.tomography import state_tomography_circuits, StateTomographyFitter\n",
    "\n",
    "import sys\n",
    "sys.path.append('../')"
   ]
  },
  {
   "cell_type": "code",
   "execution_count": 2,
   "id": "f3397e53",
   "metadata": {},
   "outputs": [
    {
     "name": "stdout",
     "output_type": "stream",
     "text": [
      "Backend: ibm_lagos\n"
     ]
    }
   ],
   "source": [
    "# Before running this code, you need to load your account using the API token available\n",
    "# in your welcome page of the IBM Quantum website (https://quantum-computing.ibm.com/). \n",
    "# In the first time, you will need to use the command IBMQ.save_account(your_token) \n",
    "# to save your account.\n",
    "\n",
    "# IBMQ.save_account(your_token)\n",
    "IBMQ.load_account()\n",
    "\n",
    "# Fill the information (hub, group and project) about your provider\n",
    "hub = ''\n",
    "group = ''\n",
    "project = ''\n",
    "\n",
    "provider = IBMQ.get_provider(hub=hub,\n",
    "                             group=group,\n",
    "                             project=project)\n",
    "\n",
    "backend = provider.get_backend('ibm_lagos')\n",
    "back_str = str(backend)\n",
    "print(\"Backend:\", backend)"
   ]
  },
  {
   "cell_type": "code",
   "execution_count": 3,
   "id": "30f078e8",
   "metadata": {},
   "outputs": [],
   "source": [
    "# Get noise model from backend\n",
    "noise_model = NoiseModel.from_backend(backend)\n",
    "\n",
    "# Get coupling map from backend\n",
    "coupling_map = backend.configuration().coupling_map\n",
    "\n",
    "# Get basis gates from noise model\n",
    "basis_gates = noise_model.basis_gates\n",
    "\n",
    "# Define layout for transpilation \n",
    "initial_layout = [0, 1, 3, 5]"
   ]
  },
  {
   "cell_type": "code",
   "execution_count": 4,
   "id": "13b9d018",
   "metadata": {},
   "outputs": [],
   "source": [
    "depth = 1 #Ansatz depth\n",
    "n_rotations = 3 #Number of rotations parameters in each layer of the ansatz\n",
    "nr_qubits = 1 #Number of qubits"
   ]
  },
  {
   "cell_type": "markdown",
   "id": "5b909b20",
   "metadata": {},
   "source": [
    "### System Parameters"
   ]
  },
  {
   "cell_type": "code",
   "execution_count": 5,
   "id": "1683aba5",
   "metadata": {},
   "outputs": [],
   "source": [
    "Iqml = np.identity(2)\n",
    "Zqml = np.array([[1,0],[0,-1]])\n",
    "\n",
    "#Temperature\n",
    "T1 = 0.4\n",
    "T2 = 0.8\n",
    "\n",
    "beta_c = 1/T1 # 1/T1\n",
    "beta_h = 1/T2 # 1/T2\n",
    "\n",
    "# Parameters\n",
    "w1 = 0.75\n",
    "w2 = 1\n",
    "wc = w1\n",
    "wh = w2\n",
    "\n",
    "gch = 0.8\n",
    "g12 = 0.8\n",
    "\n",
    "# Strokes durations\n",
    "tq = 1\n",
    "tw = 1\n",
    "\n",
    "# Number of Measurement\n",
    "N = 8\n",
    "\n",
    "#Trotter steps\n",
    "M = 1\n",
    "\n",
    "H1_sim = (w1 / 2) * Zqml\n",
    "H2_sim = (w2 / 2) * Zqml\n",
    "\n",
    "Hc_sim = (wc / 2) * Zqml\n",
    "Hh_sim = (wh / 2) * Zqml\n",
    "\n",
    "Hc = (wc / 2) * Z\n",
    "Hh = (wh / 2) * Z"
   ]
  },
  {
   "cell_type": "markdown",
   "id": "3db7f8bf",
   "metadata": {},
   "source": [
    "### Ansatz"
   ]
  },
  {
   "cell_type": "code",
   "execution_count": 6,
   "id": "ec39e257",
   "metadata": {},
   "outputs": [],
   "source": [
    "def qc_vqt(nr_qubits, depth, parameters, wires):\n",
    "\n",
    "    qc1 = QuantumCircuit(nr_qubits)\n",
    "    m = 0 \n",
    "    for i in range(depth):\n",
    "        #RZ-SX-RZ-SX-RZ\n",
    "        qc1.rz(parameters[m], wires)\n",
    "        qc1.sx(wires)\n",
    "        qc1.rz(parameters[m+1], wires)\n",
    "        qc1.sx(wires)\n",
    "        qc1.rz(parameters[m+2], wires)\n",
    "        m=m+3\n",
    "    \n",
    "    #Edit this part to includ dimensions > 2\n",
    "    qc2 = QuantumCircuit(nr_qubits)\n",
    "    qc2.x(wires)\n",
    "\n",
    "    qc2 = qc2.compose(qc1)\n",
    "\n",
    "    qc1 = qc1.reverse_bits()\n",
    "    qc2 = qc2.reverse_bits()\n",
    "\n",
    "    return [qc1, qc2]"
   ]
  },
  {
   "cell_type": "code",
   "execution_count": 7,
   "id": "d6d7eefe",
   "metadata": {},
   "outputs": [],
   "source": [
    "# Ansatz Parameters\n",
    "\n",
    "phis = ['phi'+str(n) for n in range(depth*n_rotations)] #3 rotations\n",
    "phi = [Parameter(ang) for ang in phis]\n",
    "\n",
    "ansatz_c = qc_vqt(nr_qubits=2, depth=depth, parameters=phi, wires=0)\n",
    "ansatz_h = qc_vqt(nr_qubits=2, depth=depth, parameters=phi, wires=1)\n",
    "\n",
    "backend_sim = Aer.get_backend('qasm_simulator')\n",
    "\n",
    "backend = backend_sim"
   ]
  },
  {
   "cell_type": "code",
   "execution_count": 8,
   "id": "03e2e03a",
   "metadata": {},
   "outputs": [],
   "source": [
    "from VQT import VQT\n",
    "\n",
    "vqt_instance_c = VQT(Hc, beta_c, ansatz_c, backend)\n",
    "vqt_instance_h = VQT(Hh, beta_h, ansatz_h, backend)"
   ]
  },
  {
   "cell_type": "code",
   "execution_count": 9,
   "id": "b8f08bec",
   "metadata": {},
   "outputs": [
    {
     "name": "stdout",
     "output_type": "stream",
     "text": [
      "Training...\n",
      "Cost at Step 0: -1.0478593464259627\n",
      "Cost at Step 5: -0.5561766176507827\n",
      "Cost at Step 10: -1.0657123544536276\n",
      "Cost at Step 15: -1.0789137971659093\n",
      "Finished after 20 steps.\n"
     ]
    },
    {
     "data": {
      "image/png": "[encoded data removed]",
      "text/plain": [
       "<Figure size 432x288 with 1 Axes>"
      ]
     },
     "metadata": {
      "needs_background": "light"
     },
     "output_type": "display_data"
    }
   ],
   "source": [
    "out_params_c, cost_c = vqt_instance_c.out_params(nr_qubits, depth)"
   ]
  },
  {
   "cell_type": "code",
   "execution_count": 10,
   "id": "6037bc65",
   "metadata": {},
   "outputs": [
    {
     "name": "stdout",
     "output_type": "stream",
     "text": [
      "Training...\n",
      "Cost at Step 0: -1.0478593464259627\n",
      "Cost at Step 5: -0.5561766176507827\n",
      "Cost at Step 10: -1.0657123544536276\n",
      "Cost at Step 15: -1.0789137971659093\n",
      "Finished after 20 steps.\n"
     ]
    },
    {
     "data": {
      "image/png": "[encoded data removed]",
      "text/plain": [
       "<Figure size 432x288 with 1 Axes>"
      ]
     },
     "metadata": {
      "needs_background": "light"
     },
     "output_type": "display_data"
    }
   ],
   "source": [
    "out_params_h, cost_h = vqt_instance_c.out_params(nr_qubits, depth, plot_color='tab:orange')"
   ]
  },
  {
   "cell_type": "code",
   "execution_count": 11,
   "id": "a6e63fc2",
   "metadata": {},
   "outputs": [],
   "source": [
    "qc_barrier = QuantumCircuit(2)\n",
    "\n",
    "qc_barrier.barrier()\n",
    "\n",
    "qc_barrier = qc_barrier.reverse_bits()"
   ]
  },
  {
   "cell_type": "code",
   "execution_count": 12,
   "id": "9805a414",
   "metadata": {},
   "outputs": [
    {
     "data": {
      "image/png": "[encoded data removed]",
      "text/plain": [
       "<Figure size 447.652x144.48 with 1 Axes>"
      ]
     },
     "execution_count": 12,
     "metadata": {},
     "output_type": "execute_result"
    }
   ],
   "source": [
    "qc_c1 = ansatz_c[0]\n",
    "qc_c2 = ansatz_c[1]\n",
    "qc_c2.draw('mpl')"
   ]
  },
  {
   "cell_type": "code",
   "execution_count": 13,
   "id": "772a9e26",
   "metadata": {},
   "outputs": [
    {
     "data": {
      "image/png": "[encoded data removed]",
      "text/plain": [
       "<Figure size 447.652x144.48 with 1 Axes>"
      ]
     },
     "execution_count": 13,
     "metadata": {},
     "output_type": "execute_result"
    }
   ],
   "source": [
    "qc_h1 = ansatz_h[0]\n",
    "qc_h2 = ansatz_h[1]\n",
    "qc_h2.draw('mpl')"
   ]
  },
  {
   "cell_type": "code",
   "execution_count": 14,
   "id": "8fbf5732",
   "metadata": {},
   "outputs": [],
   "source": [
    "from VQT import prob_dist\n",
    "\n",
    "# Prepares the optimal parameters and distribution for Hc\n",
    "dist_params_c = out_params_c[0]\n",
    "unitary_params_c = out_params_c[1:]\n",
    "distribution_c = prob_dist(dist_params_c)\n",
    "\n",
    "# Prepares the optimal parameters and distribution for Hh\n",
    "dist_params_h = out_params_h[0]\n",
    "unitary_params_h = out_params_h[1:]\n",
    "distribution_h = prob_dist(dist_params_h)\n",
    "\n",
    "# Parameters Bindings\n",
    "phi_dict_c = dict(zip(phi, unitary_params_c))\n",
    "phi_dict_h = dict(zip(phi, unitary_params_h))\n",
    "\n",
    "# Bind Parameters to circuits\n",
    "qc_c1_bind = qc_c1.bind_parameters(phi_dict_c)\n",
    "qc_c2_bind = qc_c2.bind_parameters(phi_dict_c)\n",
    "qc_h1_bind = qc_h1.bind_parameters(phi_dict_h)\n",
    "qc_h2_bind = qc_h2.bind_parameters(phi_dict_h)\n",
    "\n",
    "thermal_circs = [qc_c1_bind.compose(qc_h1_bind),\n",
    "                 qc_h2_bind.compose(qc_c1_bind),\n",
    "                 qc_c2_bind.compose(qc_h1_bind),\n",
    "                 qc_c2_bind.compose(qc_h2_bind)]"
   ]
  },
  {
   "cell_type": "code",
   "execution_count": 15,
   "id": "1b8e6cf5",
   "metadata": {},
   "outputs": [],
   "source": [
    "# Generate the state tomography circuits.\n",
    "qst = []\n",
    "for circuit in thermal_circs:\n",
    "    qst.append(state_tomography_circuits(circuit, [0, 1]))\n",
    "    \n",
    "#qst = np.reshape(qst,(1,36))\n",
    "#qst = list(qst[0])\n",
    "#print(qst)"
   ]
  },
  {
   "cell_type": "code",
   "execution_count": 16,
   "id": "00ff6187",
   "metadata": {},
   "outputs": [
    {
     "name": "stdout",
     "output_type": "stream",
     "text": [
      "Job Status: job has successfully run\n",
      "Job Status: job has successfully run\n",
      "Job Status: job has successfully run\n",
      "Job Status: job has successfully run\n"
     ]
    }
   ],
   "source": [
    "#Backend\n",
    "backend_sim = Aer.get_backend('qasm_simulator')\n",
    "shots = 8192 #Number of shots\n",
    "\n",
    "results = []\n",
    "for i in range(len(thermal_circs)):\n",
    "    job = execute(qst[i],\n",
    "                  backend = backend_sim,\n",
    "                  noise_model=noise_model,\n",
    "                  coupling_map=coupling_map,\n",
    "                  basis_gates=basis_gates,\n",
    "                  shots = shots)\n",
    "    job_monitor(job, interval=2)\n",
    "    results.append(job.result())"
   ]
  },
  {
   "cell_type": "code",
   "execution_count": 17,
   "id": "933cefa2",
   "metadata": {},
   "outputs": [],
   "source": [
    "rhos = []\n",
    "for i in range(len(thermal_circs)):\n",
    "    # Fit result\n",
    "    tomo_fitter = StateTomographyFitter(results[i], qst[i])\n",
    "    rhos.append(tomo_fitter.fit(method='lstsq'))\n",
    "    #tomo_fitter.fit(method='lstsq')"
   ]
  },
  {
   "cell_type": "code",
   "execution_count": 18,
   "id": "5e6a7a48",
   "metadata": {},
   "outputs": [],
   "source": [
    "# Initializes the density matrix\n",
    "\n",
    "final_density_matrix = np.zeros((2 **2, 2 ** 2))\n",
    "\n",
    "combos = itertools.product([0, 1], repeat=2)\n",
    "s = [list(c) for c in combos]\n",
    "\n",
    "dist_final = prob_dist([dist_params_c,dist_params_h])\n",
    "\n",
    "for i, sample in zip(s,rhos):\n",
    "    dist_aux = 1\n",
    "    for j in range(0, len(i)):\n",
    "        dist_aux = dist_final[j][i[j]]*dist_aux\n",
    "    final_density_matrix = np.add(final_density_matrix, dist_aux*sample)"
   ]
  },
  {
   "cell_type": "code",
   "execution_count": 19,
   "id": "809e5bd5",
   "metadata": {},
   "outputs": [
    {
     "name": "stdout",
     "output_type": "stream",
     "text": [
      "[[ 1.81716918e-02+0.00000000e+00j -6.56767394e-04+1.21568553e-04j\n",
      "   1.61820061e-03-8.47847579e-04j  3.05711723e-03+8.34100887e-05j]\n",
      " [-6.56767394e-04-1.21568553e-04j  1.19213066e-01+0.00000000e+00j\n",
      "  -2.62179517e-03+2.81892315e-03j  4.72084361e-03-1.69223709e-03j]\n",
      " [ 1.61820061e-03+8.47847579e-04j -2.62179517e-03-2.81892315e-03j\n",
      "   1.14827261e-01+0.00000000e+00j -2.44479894e-03+3.95555471e-03j]\n",
      " [ 3.05711723e-03-8.34100887e-05j  4.72084361e-03+1.69223709e-03j\n",
      "  -2.44479894e-03-3.95555471e-03j  7.47787981e-01+0.00000000e+00j]]\n"
     ]
    }
   ],
   "source": [
    "print(final_density_matrix)"
   ]
  },
  {
   "cell_type": "code",
   "execution_count": 20,
   "id": "4a5acad2",
   "metadata": {},
   "outputs": [
    {
     "name": "stdout",
     "output_type": "stream",
     "text": [
      "[[0.02961115 0.         0.         0.        ]\n",
      " [0.         0.10335309 0.         0.        ]\n",
      " [0.         0.         0.19308898 0.        ]\n",
      " [0.         0.         0.         0.67394678]]\n"
     ]
    }
   ],
   "source": [
    "from VQT import create_target\n",
    "\n",
    "from qiskit import *\n",
    "import qiskit.quantum_info as qi\n",
    "\n",
    "target_rho_c = create_target(beta_c, Hc_sim)\n",
    "target_rho_h = create_target(beta_h, Hh_sim)\n",
    "\n",
    "target_final = np.kron(target_rho_c,target_rho_h)\n",
    "\n",
    "print(target_final)"
   ]
  },
  {
   "cell_type": "code",
   "execution_count": 21,
   "id": "5cfb64ff",
   "metadata": {},
   "outputs": [
    {
     "name": "stdout",
     "output_type": "stream",
     "text": [
      "Fidelity: 0.9858860771060775\n"
     ]
    }
   ],
   "source": [
    "print(\"Fidelity: \" + str(qi.state_fidelity(target_final, final_density_matrix)))"
   ]
  }
 ],
 "metadata": {
  "interpreter": {
   "hash": "6fe3a755fac181b88c684f3889507999fb2cae98c43798e67dde2f9edf592130"
  },
  "kernelspec": {
   "display_name": "Python 3.8.10 64-bit ('volta-env': venv)",
   "name": "python3"
  },
  "language_info": {
   "codemirror_mode": {
    "name": "ipython",
    "version": 3
   },
   "file_extension": ".py",
   "mimetype": "text/x-python",
   "name": "python",
   "nbconvert_exporter": "python",
   "pygments_lexer": "ipython3",
   "version": "3.9.7"
  }
 },
 "nbformat": 4,
 "nbformat_minor": 5
}
