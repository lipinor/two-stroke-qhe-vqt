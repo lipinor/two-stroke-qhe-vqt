{
 "cells": [
  {
   "cell_type": "code",
   "execution_count": 1,
   "id": "1e48d016",
   "metadata": {},
   "outputs": [
    {
     "name": "stderr",
     "output_type": "stream",
     "text": [
      "/tmp/ipykernel_78882/2301690647.py:19: DeprecationWarning: The qiskit.ignis package is deprecated and has been supersceded by the qiskit-experiments project. Refer to the migration guide: https://github.com/Qiskit/qiskit-ignis#migration-guide on how to migrate to the new project.\n",
      "  from qiskit.ignis.verification.tomography import state_tomography_circuits, StateTomographyFitter\n"
     ]
    }
   ],
   "source": [
    "import pennylane as qml\n",
    "from matplotlib import pyplot as plt\n",
    "import numpy as np\n",
    "from numpy import array\n",
    "import scipy\n",
    "from scipy.optimize import minimize\n",
    "import itertools\n",
    "\n",
    "#Qiskit\n",
    "from qiskit import *\n",
    "from qiskit.circuit import Parameter\n",
    "import qiskit.quantum_info as qi\n",
    "from qiskit.providers.aer.noise import NoiseModel\n",
    "from qiskit.providers.ibmq import least_busy\n",
    "from qiskit.tools.monitor import job_monitor\n",
    "from qiskit.visualization import plot_histogram\n",
    "from qiskit.opflow import I, X, Y, Z\n",
    "\n",
    "from qiskit.ignis.verification.tomography import state_tomography_circuits, StateTomographyFitter\n",
    "\n",
    "import sys\n",
    "sys.path.append('../')"
   ]
  },
  {
   "cell_type": "code",
   "execution_count": 2,
   "id": "f3397e53",
   "metadata": {},
   "outputs": [
    {
     "name": "stdout",
     "output_type": "stream",
     "text": [
      "Backend: ibm_lagos\n"
     ]
    }
   ],
   "source": [
    "# Before running this code, you need to load your account using the API token available\n",
    "# in your welcome page of the IBM Quantum website (https://quantum-computing.ibm.com/). \n",
    "# In the first time, you will need to use the command IBMQ.save_account(your_token) \n",
    "# to save your account.\n",
    "\n",
    "# IBMQ.save_account(your_token)\n",
    "IBMQ.load_account()\n",
    "\n",
    "# Fill the information (hub, group and project) about your provider\n",
    "hub = ''\n",
    "group = ''\n",
    "project = ''\n",
    "\n",
    "provider = IBMQ.get_provider(hub=hub,\n",
    "                             group=group,\n",
    "                             project=project)\n",
    "\n",
    "backend = provider.get_backend('ibm_lagos')\n",
    "back_str = str(backend)\n",
    "print(\"Backend:\", backend)"
   ]
  },
  {
   "cell_type": "code",
   "execution_count": 3,
   "id": "30f078e8",
   "metadata": {},
   "outputs": [],
   "source": [
    "# Get noise model from backend\n",
    "noise_model = NoiseModel.from_backend(backend)\n",
    "\n",
    "# Get coupling map from backend\n",
    "coupling_map = backend.configuration().coupling_map\n",
    "\n",
    "# Get basis gates from noise model\n",
    "basis_gates = noise_model.basis_gates\n",
    "\n",
    "# Define layout for transpilation \n",
    "initial_layout = [0, 1, 3, 5]"
   ]
  },
  {
   "cell_type": "code",
   "execution_count": 4,
   "id": "13b9d018",
   "metadata": {},
   "outputs": [],
   "source": [
    "depth = 1 #Ansatz depth\n",
    "n_rotations = 3 #Number of rotations parameters in each layer of the ansatz\n",
    "nr_qubits = 1 #Number of qubits"
   ]
  },
  {
   "cell_type": "markdown",
   "id": "5b909b20",
   "metadata": {},
   "source": [
    "### System Parameters"
   ]
  },
  {
   "cell_type": "code",
   "execution_count": 5,
   "id": "1683aba5",
   "metadata": {},
   "outputs": [],
   "source": [
    "Iqml = np.identity(2)\n",
    "Zqml = np.array([[1,0],[0,-1]])\n",
    "\n",
    "#Temperature\n",
    "T1 = 0.4\n",
    "T2 = 0.8\n",
    "\n",
    "beta_c = 1/T1 # 1/T1\n",
    "beta_h = 1/T2 # 1/T2\n",
    "\n",
    "# Parameters\n",
    "w1 = 0.75\n",
    "w2 = 1\n",
    "wc = w1\n",
    "wh = w2\n",
    "\n",
    "gch = 0.8\n",
    "g12 = 0.8\n",
    "\n",
    "# Strokes durations\n",
    "tq = 1\n",
    "tw = 1\n",
    "\n",
    "# Number of Measurement\n",
    "N = 8\n",
    "\n",
    "#Trotter steps\n",
    "M = 1\n",
    "\n",
    "H1_sim = (w1 / 2) * Zqml\n",
    "H2_sim = (w2 / 2) * Zqml\n",
    "\n",
    "Hc_sim = (wc / 2) * Zqml\n",
    "Hh_sim = (wh / 2) * Zqml\n",
    "\n",
    "Hc = (wc / 2) * Z\n",
    "Hh = (wh / 2) * Z"
   ]
  },
  {
   "cell_type": "markdown",
   "id": "3db7f8bf",
   "metadata": {},
   "source": [
    "### Ansatz"
   ]
  },
  {
   "cell_type": "code",
   "execution_count": 6,
   "id": "ec39e257",
   "metadata": {},
   "outputs": [],
   "source": [
    "def qc_vqt(depth):\n",
    "    \n",
    "    phis = ['phi'+str(n) for n in range(depth*n_rotations)] #3 rotations\n",
    "    phi = [Parameter(ang) for ang in phis]\n",
    "\n",
    "    qc1 = QuantumCircuit(1)\n",
    "    m = 0 \n",
    "    for i in range(depth):\n",
    "        #RZ-SX-RZ-SX-RZ\n",
    "        qc1.rz(phi[m],0)\n",
    "        qc1.sx(0)\n",
    "        qc1.rz(phi[m+1],0)\n",
    "        qc1.sx(0)\n",
    "        qc1.rz(phi[m+2],0)\n",
    "        m=m+3\n",
    "    \n",
    "    qc2 = QuantumCircuit(1)\n",
    "    qc2.x(0)\n",
    "\n",
    "    qc2 = qc2.compose(qc1)\n",
    "\n",
    "    return [qc1, qc2]"
   ]
  },
  {
   "cell_type": "code",
   "execution_count": 7,
   "id": "d6d7eefe",
   "metadata": {},
   "outputs": [],
   "source": [
    "ansatz = qc_vqt(depth=depth)\n",
    "\n",
    "backend_sim = Aer.get_backend('qasm_simulator')\n",
    "\n",
    "backend = backend_sim"
   ]
  },
  {
   "cell_type": "code",
   "execution_count": 8,
   "id": "b150814a",
   "metadata": {
    "scrolled": true
   },
   "outputs": [
    {
     "name": "stdout",
     "output_type": "stream",
     "text": [
      "Training...\n",
      "Cost at Step 0: -1.0478593464259627\n",
      "Cost at Step 5: -0.5561766176507827\n",
      "Cost at Step 10: -1.0657123544536276\n",
      "Cost at Step 15: -1.0789137971659093\n",
      "Finished after 20 steps.\n"
     ]
    },
    {
     "data": {
      "image/png": "[encoded data removed]",
      "text/plain": [
       "<Figure size 432x288 with 1 Axes>"
      ]
     },
     "metadata": {
      "needs_background": "light"
     },
     "output_type": "display_data"
    },
    {
     "name": "stdout",
     "output_type": "stream",
     "text": [
      "Training...\n",
      "Cost at Step 0: -0.8217543889843923\n",
      "Cost at Step 5: -0.7263752913360871\n",
      "Cost at Step 10: -0.8764955064997544\n",
      "Cost at Step 15: -0.8765702625563752\n",
      "Finished after 20 steps.\n"
     ]
    },
    {
     "data": {
      "image/png": "[encoded data removed]",
      "text/plain": [
       "<Figure size 432x288 with 1 Axes>"
      ]
     },
     "metadata": {
      "needs_background": "light"
     },
     "output_type": "display_data"
    }
   ],
   "source": [
    "%run ../vqt.ipynb"
   ]
  },
  {
   "cell_type": "code",
   "execution_count": 9,
   "id": "8edfaeaf",
   "metadata": {},
   "outputs": [],
   "source": [
    "# Parameters\n",
    "phis = ['phi'+str(n) for n in range(depth*3)] #3 rotations\n",
    "phi = [Parameter(ang) for ang in phis]"
   ]
  },
  {
   "cell_type": "code",
   "execution_count": 10,
   "id": "a6e63fc2",
   "metadata": {},
   "outputs": [],
   "source": [
    "qc_barrier = QuantumCircuit(2)\n",
    "\n",
    "qc_barrier.barrier()\n",
    "\n",
    "qc_barrier = qc_barrier.reverse_bits()"
   ]
  },
  {
   "cell_type": "code",
   "execution_count": 11,
   "id": "50c935be",
   "metadata": {},
   "outputs": [],
   "source": [
    "def qc_vqt(wire):\n",
    "    qc = QuantumCircuit(2)\n",
    "    m=0\n",
    "    for i in range(depth):\n",
    "        #RZ-SX-RZ-SX-RZ\n",
    "        qc.rz(phi[m],wire)\n",
    "        qc.sx(wire)\n",
    "        qc.rz(phi[m+1],wire)\n",
    "        qc.sx(wire)\n",
    "        qc.rz(phi[m+2],wire)\n",
    "        m=m+3\n",
    "    \n",
    "    qc = qc.reverse_bits()\n",
    "    return qc\n",
    "\n",
    "def qc_x(wire):\n",
    "    qc = QuantumCircuit(2)\n",
    "    qc.x(wire)\n",
    "    qc = qc.reverse_bits()\n",
    "    return qc"
   ]
  },
  {
   "cell_type": "code",
   "execution_count": 12,
   "id": "9805a414",
   "metadata": {},
   "outputs": [
    {
     "data": {
      "image/png": "[encoded data removed]",
      "text/plain": [
       "<Figure size 447.652x144.48 with 1 Axes>"
      ]
     },
     "execution_count": 12,
     "metadata": {},
     "output_type": "execute_result"
    }
   ],
   "source": [
    "qc_c1 = qc_vqt(0)\n",
    "#qc_c2 = qc_x(0).compose(qc_barrier).compose(qc_c1)\n",
    "qc_c2 = qc_x(0).compose(qc_c1)\n",
    "qc_c2.draw('mpl')"
   ]
  },
  {
   "cell_type": "code",
   "execution_count": 13,
   "id": "772a9e26",
   "metadata": {},
   "outputs": [
    {
     "data": {
      "image/png": "[encoded data removed]",
      "text/plain": [
       "<Figure size 447.652x144.48 with 1 Axes>"
      ]
     },
     "execution_count": 13,
     "metadata": {},
     "output_type": "execute_result"
    }
   ],
   "source": [
    "qc_h1 = qc_vqt(1)\n",
    "#qc_h1 = qc_x(1).compose(qc_barrier).compose(qc_h1)\n",
    "qc_h2 = qc_x(1).compose(qc_h1)\n",
    "qc_h2.draw('mpl')"
   ]
  },
  {
   "cell_type": "code",
   "execution_count": 14,
   "id": "8fbf5732",
   "metadata": {},
   "outputs": [],
   "source": [
    "from VQT import prob_dist\n",
    "\n",
    "# Prepares the optimal parameters and distribution for Hc\n",
    "dist_params_c = out_params_c[0]\n",
    "unitary_params_c = out_params_c[1:]\n",
    "distribution_c = prob_dist(dist_params_c)\n",
    "\n",
    "# Prepares the optimal parameters and distribution for Hh\n",
    "dist_params_h = out_params_h[0]\n",
    "unitary_params_h = out_params_h[1:]\n",
    "distribution_h = prob_dist(dist_params_h)\n",
    "\n",
    "# Parameters Bindings\n",
    "phi_dict_c = dict(zip(phi, unitary_params_c))\n",
    "phi_dict_h = dict(zip(phi, unitary_params_h))\n",
    "\n",
    "# Bind Parameters to circuits\n",
    "qc_c1_bind = qc_c1.bind_parameters(phi_dict_c)\n",
    "qc_c2_bind = qc_c2.bind_parameters(phi_dict_c)\n",
    "qc_h1_bind = qc_h1.bind_parameters(phi_dict_h)\n",
    "qc_h2_bind = qc_h2.bind_parameters(phi_dict_h)\n",
    "\n",
    "thermal_circs = [qc_c1_bind.compose(qc_h1_bind),\n",
    "                 qc_h2_bind.compose(qc_c1_bind),\n",
    "                 qc_c2_bind.compose(qc_h1_bind),\n",
    "                 qc_c2_bind.compose(qc_h2_bind)]"
   ]
  },
  {
   "cell_type": "code",
   "execution_count": 15,
   "id": "1b8e6cf5",
   "metadata": {},
   "outputs": [],
   "source": [
    "# Generate the state tomography circuits.\n",
    "qst = []\n",
    "for circuit in thermal_circs:\n",
    "    qst.append(state_tomography_circuits(circuit, [0, 1]))\n",
    "    \n",
    "#qst = np.reshape(qst,(1,36))\n",
    "#qst = list(qst[0])\n",
    "#print(qst)"
   ]
  },
  {
   "cell_type": "code",
   "execution_count": 16,
   "id": "00ff6187",
   "metadata": {},
   "outputs": [
    {
     "name": "stdout",
     "output_type": "stream",
     "text": [
      "Job Status: job has successfully run\n",
      "Job Status: job has successfully run\n",
      "Job Status: job has successfully run\n",
      "Job Status: job has successfully run\n"
     ]
    }
   ],
   "source": [
    "#Backend\n",
    "backend_sim = Aer.get_backend('qasm_simulator')\n",
    "shots = 8192 #Number of shots\n",
    "\n",
    "results = []\n",
    "for i in range(len(thermal_circs)):\n",
    "    job = execute(qst[i],\n",
    "                  backend = backend_sim,\n",
    "                  noise_model=noise_model,\n",
    "                  coupling_map=coupling_map,\n",
    "                  basis_gates=basis_gates,\n",
    "                  shots = shots)\n",
    "    job_monitor(job, interval=2)\n",
    "    results.append(job.result())"
   ]
  },
  {
   "cell_type": "code",
   "execution_count": 17,
   "id": "933cefa2",
   "metadata": {},
   "outputs": [],
   "source": [
    "rhos = []\n",
    "for i in range(len(thermal_circs)):\n",
    "    # Fit result\n",
    "    tomo_fitter = StateTomographyFitter(results[i], qst[i])\n",
    "    rhos.append(tomo_fitter.fit(method='lstsq'))\n",
    "    #tomo_fitter.fit(method='lstsq')"
   ]
  },
  {
   "cell_type": "code",
   "execution_count": 18,
   "id": "5e6a7a48",
   "metadata": {},
   "outputs": [],
   "source": [
    "# Initializes the density matrix\n",
    "\n",
    "final_density_matrix = np.zeros((2 **2, 2 ** 2))\n",
    "\n",
    "combos = itertools.product([0, 1], repeat=2)\n",
    "s = [list(c) for c in combos]\n",
    "\n",
    "dist_final = prob_dist([dist_params_c,dist_params_h])\n",
    "\n",
    "for i, sample in zip(s,rhos):\n",
    "    dist_aux = 1\n",
    "    for j in range(0, len(i)):\n",
    "        dist_aux = dist_final[j][i[j]]*dist_aux\n",
    "    final_density_matrix = np.add(final_density_matrix, dist_aux*sample)"
   ]
  },
  {
   "cell_type": "code",
   "execution_count": 19,
   "id": "809e5bd5",
   "metadata": {},
   "outputs": [
    {
     "name": "stdout",
     "output_type": "stream",
     "text": [
      "[[ 3.16324450e-02+0.00000000e+00j  6.03515540e-05-1.15518121e-04j\n",
      "  -6.31771793e-04-3.90033432e-04j  1.56602478e-03+7.67233736e-04j]\n",
      " [ 6.03515540e-05+1.15518121e-04j  1.04342552e-01+0.00000000e+00j\n",
      "  -4.73637088e-03-2.73510663e-03j -3.00603573e-04-2.56370466e-03j]\n",
      " [-6.31771793e-04+3.90033432e-04j -4.73637088e-03+2.73510663e-03j\n",
      "   2.02155810e-01+0.00000000e+00j  2.65925713e-03-4.49893942e-05j]\n",
      " [ 1.56602478e-03-7.67233736e-04j -3.00603573e-04+2.56370466e-03j\n",
      "   2.65925713e-03+4.49893942e-05j  6.61869193e-01+0.00000000e+00j]]\n"
     ]
    }
   ],
   "source": [
    "print(final_density_matrix)"
   ]
  },
  {
   "cell_type": "code",
   "execution_count": 20,
   "id": "4a5acad2",
   "metadata": {},
   "outputs": [
    {
     "name": "stdout",
     "output_type": "stream",
     "text": [
      "[[0.02961115 0.         0.         0.        ]\n",
      " [0.         0.10335309 0.         0.        ]\n",
      " [0.         0.         0.19308898 0.        ]\n",
      " [0.         0.         0.         0.67394678]]\n"
     ]
    }
   ],
   "source": [
    "from VQT import create_target\n",
    "\n",
    "from qiskit import *\n",
    "import qiskit.quantum_info as qi\n",
    "\n",
    "target_rho_c = create_target(beta_c, Hc_sim)\n",
    "target_rho_h = create_target(beta_h, Hh_sim)\n",
    "\n",
    "target_final = np.kron(target_rho_c,target_rho_h)\n",
    "\n",
    "print(target_final)"
   ]
  },
  {
   "cell_type": "code",
   "execution_count": 21,
   "id": "5cfb64ff",
   "metadata": {},
   "outputs": [
    {
     "name": "stdout",
     "output_type": "stream",
     "text": [
      "Fidelity: 0.9996858854489581\n"
     ]
    }
   ],
   "source": [
    "print(\"Fidelity: \" + str(qi.state_fidelity(target_final, final_density_matrix)))"
   ]
  }
 ],
 "metadata": {
  "interpreter": {
   "hash": "6fe3a755fac181b88c684f3889507999fb2cae98c43798e67dde2f9edf592130"
  },
  "kernelspec": {
   "display_name": "Python 3.8.10 64-bit ('volta-env': venv)",
   "name": "python3"
  },
  "language_info": {
   "codemirror_mode": {
    "name": "ipython",
    "version": 3
   },
   "file_extension": ".py",
   "mimetype": "text/x-python",
   "name": "python",
   "nbconvert_exporter": "python",
   "pygments_lexer": "ipython3",
   "version": "3.9.7"
  }
 },
 "nbformat": 4,
 "nbformat_minor": 5
}
