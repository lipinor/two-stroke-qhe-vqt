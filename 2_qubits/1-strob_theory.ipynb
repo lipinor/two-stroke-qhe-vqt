{
 "cells": [
  {
   "cell_type": "code",
   "execution_count": 1,
   "id": "d185fd9f",
   "metadata": {},
   "outputs": [],
   "source": [
    "from qutip import *"
   ]
  },
  {
   "cell_type": "code",
   "execution_count": null,
   "id": "ec96e888",
   "metadata": {},
   "outputs": [],
   "source": [
    "# As = A simulation\n",
    "Is = identity(2)\n",
    "Xs = sigmax()\n",
    "Ys = sigmay()\n",
    "Zs = sigmaz()\n",
    "\n",
    "# Hamiltonians\n",
    "H1s = (w1/2)*Zs\n",
    "H2s = (w2/2)*Zs\n",
    "\n",
    "Hcs = (wc/2)*Zs\n",
    "Hhs = (wh/2)*Zs"
   ]
  },
  {
   "cell_type": "code",
   "execution_count": null,
   "id": "e38bb51f",
   "metadata": {},
   "outputs": [],
   "source": [
    "#States\n",
    "q0 = Qobj([[1],[0]])\n",
    "q1 = Qobj([[0],[1]])\n",
    "\n",
    "rho0 = fock_dm(2,0)\n",
    "\n",
    "#States\n",
    "psi1 = q1\n",
    "psi2 = q1\n",
    "rho1 = ket2dm(psi1)\n",
    "rho2 = ket2dm(psi2)\n",
    "\n",
    "#Reservoirs\n",
    "rhoc = (-beta_c*Hcs).expm()/((-beta_c*Hcs).expm().tr())\n",
    "rhoh = (-beta_h*Hhs).expm()/((-beta_h*Hhs).expm().tr())"
   ]
  },
  {
   "cell_type": "code",
   "execution_count": null,
   "id": "4fa9294f",
   "metadata": {},
   "outputs": [],
   "source": [
    "sigp = (Xs + 1j*Ys)/2;\n",
    "sigm = (Xs - 1j*Ys)/2;\n",
    "\n",
    "Vc = g12 * (tensor(sigp,sigm,Is,Is) + tensor(sigm,sigp,Is,Is))\n",
    "Vh = g12 * (tensor(Is,Is,sigp,sigm) + tensor(Is,Is,sigm,sigp))\n",
    "Vs = g12 * (tensor(Is,sigp,sigm,Is) + tensor(Is,sigm,sigp,Is))\n",
    "\n",
    "#Hamiltonians\n",
    "Hqs = (tensor(Hcs,Is,Is,Is) + tensor(Is,Is,Is,Hhs) + \n",
    "       tensor(Is,H1s,Is,Is) + tensor(Is,Is,H2s,Is) +\n",
    "       Vc + Vh)\n",
    "Hws = (tensor(Is,H1s,Is,Is) + tensor(Is,Is,H2s,Is) + \n",
    "      Vs)\n",
    "\n",
    "Uqs = (-1j*Hqs*tq).expm()\n",
    "Uws = (-1j*Hws*tw).expm()"
   ]
  },
  {
   "cell_type": "code",
   "execution_count": null,
   "id": "a06d64f5",
   "metadata": {},
   "outputs": [],
   "source": [
    "#System state\n",
    "rhows = tensor(rhoc,rho1,rho2,rhoh)\n",
    "\n",
    "Qc_sim = []\n",
    "Qh_sim = []\n",
    "W_sim = []\n",
    "\n",
    "for i in range(N):\n",
    "    #Heat Stroke\n",
    "    rhoqs = Uqs*rhows*(Uqs.dag())\n",
    "    \n",
    "    Qc_sim.append(expect(tensor(Is,H1s,Is,Is),rhoqs-rhows))\n",
    "    Qh_sim.append(expect(tensor(Is,Is,H2s,Is),rhoqs-rhows))\n",
    "    \n",
    "    #Work Stroke\n",
    "    rhows = Uws*rhoqs*(Uws.dag())\n",
    "    \n",
    "    W_sim.append(expect(-tensor(Is,H1s,Is,Is)-tensor(Is,Is,H2s,Is),rhows-rhoqs))\n",
    "    \n",
    "    #Resetting the ancillas \n",
    "    rhoaux = ptrace(rhows,[1,2])\n",
    "    rhows = tensor(rhoc,rhoaux,rhoh)"
   ]
  },
  {
   "cell_type": "code",
   "execution_count": null,
   "id": "e4e541bb",
   "metadata": {},
   "outputs": [],
   "source": [
    "print(\"Classical simulation is finished.\")"
   ]
  }
 ],
 "metadata": {
  "kernelspec": {
   "display_name": "Python 3",
   "language": "python",
   "name": "python3"
  },
  "language_info": {
   "codemirror_mode": {
    "name": "ipython",
    "version": 3
   },
   "file_extension": ".py",
   "mimetype": "text/x-python",
   "name": "python",
   "nbconvert_exporter": "python",
   "pygments_lexer": "ipython3",
   "version": "3.9.7"
  }
 },
 "nbformat": 4,
 "nbformat_minor": 5
}
