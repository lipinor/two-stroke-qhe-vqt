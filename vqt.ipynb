{
 "cells": [
  {
   "cell_type": "markdown",
   "metadata": {
    "toc": true
   },
   "source": [
    "<h1>Table of Contents<span class=\"tocSkip\"></span></h1>\n",
    "<div class=\"toc\"><ul class=\"toc-item\"></ul></div>"
   ]
  },
  {
   "cell_type": "code",
   "execution_count": null,
   "metadata": {},
   "outputs": [],
   "source": [
    "import pennylane as qml\n",
    "import numpy as np\n",
    "\n",
    "#Graphics\n",
    "import matplotlib.pyplot as plt"
   ]
  },
  {
   "cell_type": "code",
   "execution_count": null,
   "metadata": {},
   "outputs": [],
   "source": [
    "%load_ext autoreload\n",
    "%autoreload 2"
   ]
  },
  {
   "cell_type": "code",
   "execution_count": null,
   "metadata": {},
   "outputs": [],
   "source": [
    "def quantum_circuit(rotation_params, hamiltonian_matrix, sample=None):\n",
    "    \"\"\" Generates a variational ansatz given rotation_params\n",
    "    and samples the expected value of hamiltonian_matrix.\n",
    "    \"\"\"\n",
    "    # Prepares the initial basis state corresponding to the sample\n",
    "    qml.templates.BasisStatePreparation(sample, wires=range(nr_qubits))\n",
    "\n",
    "    # Prepares the variational ansatz for the circuit\n",
    "    qml.RZ(rotation_params[0][0][0], wires=0)\n",
    "    qml.SX(wires=0)\n",
    "    qml.RZ(rotation_params[0][1][0], wires=0)\n",
    "    qml.SX(wires=0)\n",
    "    qml.RZ(rotation_params[0][2][0], wires=0)\n",
    "        \n",
    "    # Calculates the expectation value of the Hamiltonian with respect to the prepared states\n",
    "    return qml.expval(qml.Hermitian(hamiltonian_matrix, wires=range(nr_qubits)))"
   ]
  },
  {
   "cell_type": "markdown",
   "metadata": {},
   "source": [
    "Here we consider that the first and last qubits represent the cold and hot bath, respectively."
   ]
  },
  {
   "cell_type": "code",
   "execution_count": null,
   "metadata": {},
   "outputs": [],
   "source": [
    "from VQT import VQT\n",
    "\n",
    "vqt_instance_c = VQT(quantum_circuit, devc)\n",
    "vqt_instance_h = VQT(quantum_circuit, devh)"
   ]
  },
  {
   "cell_type": "code",
   "execution_count": null,
   "metadata": {},
   "outputs": [],
   "source": [
    "cost_c = []\n",
    "out_params_c = vqt_instance_c.out_params(Hc, beta_c, cost_c, nr_qubits, depth)"
   ]
  },
  {
   "cell_type": "code",
   "execution_count": null,
   "metadata": {
    "scrolled": true
   },
   "outputs": [],
   "source": [
    "plt.plot(range(len(cost_c)), cost_c, '.-', color='tab:blue')\n",
    "plt.xlabel('Iterations')\n",
    "plt.ylabel('Cost')\n",
    "plt.title('Cold')\n",
    "plt.show()"
   ]
  },
  {
   "cell_type": "code",
   "execution_count": null,
   "metadata": {},
   "outputs": [],
   "source": [
    "cost_h = []\n",
    "out_params_h = vqt_instance_h.out_params(Hh, beta_h, cost_h, nr_qubits, depth)"
   ]
  },
  {
   "cell_type": "code",
   "execution_count": null,
   "metadata": {},
   "outputs": [],
   "source": [
    "plt.plot(range(len(cost_h)), cost_h, '.-', color='tab:orange')\n",
    "plt.xlabel('Iterations')\n",
    "plt.ylabel('Cost')\n",
    "plt.title('Hot')\n",
    "plt.show()"
   ]
  },
  {
   "cell_type": "code",
   "execution_count": null,
   "metadata": {},
   "outputs": [],
   "source": [
    "'''\n",
    "from VQT import create_target\n",
    "\n",
    "from qiskit import *\n",
    "import qiskit.quantum_info as qi\n",
    "\n",
    "target_rho_c = create_target(beta_c, Hc)\n",
    "target_rho_h = create_target(beta_h, Hh)\n",
    "\n",
    "target_final = np.kron(target_rho_c,target_rho_h)\n",
    "\n",
    "# Prepares the density matrix from VQT parameters\n",
    "rho_c = vqt_instance.prepare_state(out_params_c, Hc, dev)\n",
    "rho_h = vqt_instance.prepare_state(out_params_h, Hh, dev)\n",
    "\n",
    "rho_final  = np.kron(rho_c,rho_h)\n",
    "\n",
    "print(\"Fidelity: \" + str(qi.state_fidelity(target_final, rho_final)))\n",
    "'''"
   ]
  }
 ],
 "metadata": {
  "kernelspec": {
   "display_name": "Python 3",
   "language": "python",
   "name": "python3"
  },
  "language_info": {
   "codemirror_mode": {
    "name": "ipython",
    "version": 3
   },
   "file_extension": ".py",
   "mimetype": "text/x-python",
   "name": "python",
   "nbconvert_exporter": "python",
   "pygments_lexer": "ipython3",
   "version": "3.9.5"
  },
  "toc": {
   "base_numbering": 1,
   "nav_menu": {},
   "number_sections": true,
   "sideBar": true,
   "skip_h1_title": false,
   "title_cell": "Table of Contents",
   "title_sidebar": "Contents",
   "toc_cell": true,
   "toc_position": {},
   "toc_section_display": true,
   "toc_window_display": false
  }
 },
 "nbformat": 4,
 "nbformat_minor": 2
}
