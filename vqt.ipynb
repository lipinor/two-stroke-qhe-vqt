{
 "cells": [
  {
   "cell_type": "code",
   "execution_count": null,
   "metadata": {},
   "outputs": [],
   "source": [
    "import pennylane as qml\n",
    "import numpy as np\n",
    "\n",
    "#Graphics\n",
    "import matplotlib.pyplot as plt"
   ]
  },
  {
   "cell_type": "code",
   "execution_count": null,
   "metadata": {},
   "outputs": [],
   "source": [
    "'''\n",
    "def qc_vqt(depth):\n",
    "    \n",
    "    phis = ['phi'+str(n) for n in range(depth*n_rotations)] #3 rotations\n",
    "    phi = [qiskit.circuit.Parameter(ang) for ang in phis]\n",
    "\n",
    "    qc1 = qiskit.QuantumCircuit(1)\n",
    "    m = 0 \n",
    "    for i in range(depth):\n",
    "        #RZ-SX-RZ-SX-RZ\n",
    "        qc1.rz(phi[m],0)\n",
    "        qc1.sx(0)\n",
    "        qc1.rz(phi[m+1],0)\n",
    "        qc1.sx(0)\n",
    "        qc1.rz(phi[m+2],0)\n",
    "        m=m+3\n",
    "    \n",
    "    qc2 = qiskit.QuantumCircuit(1)\n",
    "    qc2.x(0)\n",
    "\n",
    "    qc2 = qc2.compose(qc1)\n",
    "\n",
    "    return [qc1, qc2]\n",
    "\n",
    "'''"
   ]
  },
  {
   "cell_type": "code",
   "execution_count": null,
   "metadata": {},
   "outputs": [],
   "source": [
    "from VQT import VQT\n",
    "\n",
    "vqt_instance_c = VQT(Hc, ansatz, backend)\n",
    "vqt_instance_h = VQT(Hh, ansatz, backend)"
   ]
  },
  {
   "cell_type": "code",
   "execution_count": null,
   "metadata": {},
   "outputs": [],
   "source": [
    "cost_c = []\n",
    "out_params_c = vqt_instance_c.out_params(Hc, beta_c, cost_c, nr_qubits, depth)"
   ]
  },
  {
   "cell_type": "code",
   "execution_count": null,
   "metadata": {},
   "outputs": [],
   "source": [
    "plt.plot(range(len(cost_c)), cost_c, '.-', color='tab:blue')\n",
    "plt.xlabel('Iterations')\n",
    "plt.ylabel('Cost')\n",
    "plt.title('Cold')\n",
    "plt.show()"
   ]
  },
  {
   "cell_type": "code",
   "execution_count": null,
   "metadata": {},
   "outputs": [],
   "source": [
    "cost_h = []\n",
    "out_params_h = vqt_instance_h.out_params(Hh, beta_h, cost_h, nr_qubits, depth)"
   ]
  },
  {
   "cell_type": "code",
   "execution_count": null,
   "metadata": {},
   "outputs": [],
   "source": [
    "plt.plot(range(len(cost_h)), cost_h, '.-', color='tab:orange')\n",
    "plt.xlabel('Iterations')\n",
    "plt.ylabel('Cost')\n",
    "plt.title('Hot')\n",
    "plt.show()"
   ]
  }
 ],
 "metadata": {
  "language_info": {
   "name": "python"
  },
  "orig_nbformat": 4
 },
 "nbformat": 4,
 "nbformat_minor": 2
}
