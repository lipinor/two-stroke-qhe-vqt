{
 "cells": [
  {
   "cell_type": "code",
   "execution_count": 73,
   "id": "16865820",
   "metadata": {},
   "outputs": [],
   "source": [
    "import numpy as np\n",
    "import pennylane as qml\n",
    "import itertools\n",
    "from VQT import prob_dist\n",
    "from matplotlib import pyplot as plt\n",
    "import seaborn as sns\n",
    "import pickle\n",
    "from datetime import datetime"
   ]
  },
  {
   "cell_type": "code",
   "execution_count": 74,
   "id": "3a3b1121",
   "metadata": {},
   "outputs": [],
   "source": [
    "number = '1'\n",
    "back_str = 'ibm_lagos'\n",
    "date = '2021-09-28'\n",
    "\n",
    "engine = \"heat_accelerator\"\n",
    "\n",
    "file_heat_counts = open(f'final_results/{engine}/{number}_heat_non_{date}_{back_str}', 'rb')\n",
    "file_work_counts = open(f'final_results/{engine}/{number}_work_non_{date}_{back_str}', 'rb')\n",
    "\n",
    "file_c_probs = open(f'final_results/{engine}/{number}_prob_heat_{date}_{back_str}', 'rb')\n",
    "file_h_probs = open(f'final_results/{engine}/{number}_prob_work_{date}_{back_str}', 'rb')\n",
    "\n",
    "file_sys_params = open(f'final_results/{engine}/{number}_sys_params_{date}_{back_str}', 'rb')\n",
    "\n",
    "# load information from the files\n",
    "counts_heat = pickle.load(file_heat_counts)\n",
    "counts_work = pickle.load(file_work_counts)\n",
    "\n",
    "dist_params_c = pickle.load(file_c_probs)\n",
    "dist_params_h = pickle.load(file_h_probs)\n",
    "\n",
    "sys_params = pickle.load(file_sys_params)\n",
    "\n",
    "file_heat_counts.close()\n",
    "file_work_counts.close()\n",
    "file_c_probs.close()\n",
    "file_h_probs.close()\n",
    "file_sys_params.close()"
   ]
  },
  {
   "cell_type": "code",
   "execution_count": 75,
   "id": "f3c323c3",
   "metadata": {},
   "outputs": [
    {
     "name": "stdout",
     "output_type": "stream",
     "text": [
      "The system is a heat accelerator.\n"
     ]
    }
   ],
   "source": [
    "Iqml = np.identity(2)\n",
    "Zqml = np.array([[1,0],[0,-1]])\n",
    "\n",
    "#Temperature\n",
    "Tc = sys_params[\"Tc\"]\n",
    "Th = sys_params[\"Th\"]\n",
    "\n",
    "beta_c = 1/Tc # 1/Tc\n",
    "beta_h = 1/Th # 1/Th\n",
    "\n",
    "# Parameters\n",
    "w1 = sys_params[\"w1\"]\n",
    "w2 = sys_params[\"w2\"]\n",
    "wc = w1\n",
    "wh = w2\n",
    "\n",
    "gch = sys_params[\"gch\"]\n",
    "g12 = sys_params[\"g12\"]\n",
    "\n",
    "# Strokes durations\n",
    "tq = sys_params[\"tq\"]\n",
    "tw = sys_params[\"tw\"]\n",
    "\n",
    "# Number of Measurement\n",
    "N = sys_params[\"N\"]\n",
    "\n",
    "#Trotter steps\n",
    "M = 1\n",
    "\n",
    "H1 = (w1 / 2) * Zqml\n",
    "H2 = (w2 / 2) * Zqml\n",
    "\n",
    "Hc = (wc / 2) * Zqml\n",
    "Hh = (wh / 2) * Zqml\n",
    "\n",
    "if Tc/Th <= w1/w2 and w1/w2 <= 1:\n",
    "    print(\"The system is a heat engine.\")\n",
    "    system = 'heat_engine'\n",
    "elif w1/w2 < Tc/Th:\n",
    "    print(\"The system is a refrigerator.\")\n",
    "    system = 'refrigerator'\n",
    "elif w1>w2:\n",
    "    print(\"The system is a heat accelerator.\")\n",
    "    system = 'heat_accelerator'"
   ]
  },
  {
   "cell_type": "code",
   "execution_count": 76,
   "id": "be06a257",
   "metadata": {},
   "outputs": [],
   "source": [
    "# import pickle\n",
    "\n",
    "# def save_results(results,name):\n",
    "#     with open('final_results/'+str(name),'wb') as f:\n",
    "#         pickle.dump(results, f)        "
   ]
  },
  {
   "cell_type": "code",
   "execution_count": 77,
   "id": "b471b303",
   "metadata": {},
   "outputs": [],
   "source": [
    "# sys_params = {\"Tc\": Tc, \"Th\": Th, \"w1\": w1, \"w2\": w2, \"gch\": gch, \"g12\": g12, \"tq\": tq, \"tw\": tw, \"N\": N}\n",
    "# save_results(sys_params, number+'_'+'sys_params_' + back_str + '_' + date)"
   ]
  },
  {
   "cell_type": "code",
   "execution_count": 78,
   "id": "bb6b7d31",
   "metadata": {},
   "outputs": [],
   "source": [
    "thermal_circs = ['circ']*4\n",
    "n_exps = 10\n",
    "shots = 8192"
   ]
  },
  {
   "cell_type": "code",
   "execution_count": 79,
   "id": "9d525989",
   "metadata": {},
   "outputs": [],
   "source": [
    "def dict_reduction(counts_dict,qubit):\n",
    "    \"\"\"Computes all counts for a given basis element:\n",
    "\n",
    "    Args:\n",
    "        counts_dict (dict): dictionary to be reducted\n",
    "        qubit (int): measured qubit\n",
    "\n",
    "    Returns:\n",
    "        dict: The reduced dictionary\n",
    "    \"\"\"\n",
    "    \n",
    "    dict_red = {}\n",
    "    for i in ['0', '1']:\n",
    "        value = 0\n",
    "        for key in counts_dict:\n",
    "            if key[qubit] == i:\n",
    "                value += counts_dict[key]\n",
    "                dict_red[i] = value\n",
    "    return dict_red"
   ]
  },
  {
   "cell_type": "code",
   "execution_count": 80,
   "id": "10fabcde",
   "metadata": {},
   "outputs": [],
   "source": [
    "combos = itertools.product([0, 1], repeat=2)\n",
    "s = [list(c) for c in combos]\n",
    "\n",
    "dist_final = prob_dist([dist_params_c,dist_params_h])\n",
    "\n",
    "def z_expval(counts_stroke,meas_qubit):\n",
    "    #Obtaining ZI and IZ for each sample\n",
    "    Z_samples = []\n",
    "    for k in range(len(thermal_circs)):\n",
    "        Z_aux = []\n",
    "        for counts in counts_stroke[k]:\n",
    "            counts = dict_reduction(counts,meas_qubit)\n",
    "            # calculate the probabilities for each qubit value\n",
    "            probs = {}\n",
    "            for output in ['0', '1']:\n",
    "                if output in counts:\n",
    "                    probs[output] = counts[output]/shots\n",
    "                else:\n",
    "                    probs[output] = 0\n",
    "\n",
    "            Z_aux.append(probs['0']-probs['1'])\n",
    "\n",
    "        Z_samples.append(Z_aux)\n",
    "\n",
    "    Z_samples = np.array(Z_samples).transpose()\n",
    "\n",
    "    #Obtaining <Z> from the samples\n",
    "    Z_vals = []\n",
    "    for Z_samp in Z_samples:\n",
    "        Z_final = 0\n",
    "        for i, sample in zip(s,Z_samp):\n",
    "            dist_aux = 1\n",
    "            for j in range(0, len(i)):\n",
    "                dist_aux = dist_final[j][i[j]]*dist_aux\n",
    "            Z_final = Z_final + dist_aux*sample\n",
    "\n",
    "        Z_vals.append(Z_final)\n",
    "        \n",
    "    return Z_vals"
   ]
  },
  {
   "cell_type": "code",
   "execution_count": 81,
   "id": "3c69487b",
   "metadata": {},
   "outputs": [],
   "source": [
    "# Quantum chain\n",
    "Z1_heat, Z2_heat, Z1_work, Z2_work = [], [], [], []\n",
    "for c_heat, c_work in zip(counts_heat, counts_work):\n",
    "    Z1_res, Z2_res = z_expval(c_heat,meas_qubit=1), z_expval(c_heat,meas_qubit=2)\n",
    "    Z1_heat.append(Z1_res)\n",
    "    Z2_heat.append(Z2_res)\n",
    "    \n",
    "    Z1_res, Z2_res = z_expval(c_work,meas_qubit=1), z_expval(c_work,meas_qubit=2)   \n",
    "    Z1_work.append(Z1_res)\n",
    "    Z2_work.append(Z2_res)"
   ]
  },
  {
   "cell_type": "code",
   "execution_count": 82,
   "id": "7f32d5ed",
   "metadata": {},
   "outputs": [
    {
     "name": "stdout",
     "output_type": "stream",
     "text": [
      "Classical simulation is finished.\n"
     ]
    }
   ],
   "source": [
    "%run ./2_qubits/1-strob_theory.ipynb"
   ]
  },
  {
   "cell_type": "code",
   "execution_count": 83,
   "id": "b6002638",
   "metadata": {},
   "outputs": [],
   "source": [
    "Qc_exps = []\n",
    "Qh_exps = []\n",
    "W_exps = []\n",
    "\n",
    "for j in range(N):\n",
    "    Qc_aux = []\n",
    "    Qh_aux = []\n",
    "    W_aux = []\n",
    "    for i in range(n_exps):\n",
    "        if j == 0:\n",
    "            Qc_aux.append((wc/2)*(Z1_heat[i][j+1] - Z1_heat[i][j]))\n",
    "            Qh_aux.append((wh/2)*(Z2_heat[i][j+1] - Z1_heat[i][j]))\n",
    "        else:\n",
    "            Qc_aux.append((wc/2)*(Z1_heat[i][j+1] - Z1_work[i][j-1]))\n",
    "            Qh_aux.append((wh/2)*(Z2_heat[i][j+1] - Z2_work[i][j-1]))\n",
    "    \n",
    "        W_aux.append(-(wc/2)*(Z1_work[i][j]-Z1_heat[i][j+1])-(wh/2)*(Z2_work[i][j]-Z2_heat[i][j+1]))\n",
    "        \n",
    "    Qc_exps.append(Qc_aux)\n",
    "    Qh_exps.append(Qh_aux)\n",
    "    W_exps.append(W_aux)"
   ]
  },
  {
   "cell_type": "code",
   "execution_count": 84,
   "id": "41eb870a",
   "metadata": {},
   "outputs": [],
   "source": [
    "Qc, Qc_err = [], []\n",
    "Qh, Qh_err = [], []\n",
    "W, W_err = [], []\n",
    "for i in range(N):\n",
    "    #Mean values\n",
    "    Qc.append(np.mean(Qc_exps[i]))\n",
    "    Qh.append(np.mean(Qh_exps[i]))\n",
    "    W.append(np.mean(W_exps[i]))\n",
    "    #Standard deviations of the mean\n",
    "    Qc_err.append(3*np.std(Qc_exps[i])/np.sqrt(n_exps))\n",
    "    Qh_err.append(3*np.std(Qh_exps[i])/np.sqrt(n_exps))\n",
    "    W_err.append(3*np.std(W_exps[i])/np.sqrt(n_exps))"
   ]
  },
  {
   "cell_type": "code",
   "execution_count": 85,
   "id": "7b5abf94",
   "metadata": {},
   "outputs": [],
   "source": [
    "sns.set_theme()\n",
    "sns.set_context(\"paper\", font_scale = 2)"
   ]
  },
  {
   "cell_type": "code",
   "execution_count": 86,
   "id": "32154422",
   "metadata": {},
   "outputs": [
    {
     "data": {
      "image/png": "[encoded data removed]",
      "text/plain": [
       "<Figure size 432x288 with 1 Axes>"
      ]
     },
     "metadata": {},
     "output_type": "display_data"
    }
   ],
   "source": [
    "fig, axes = plt.subplots(1,1)\n",
    "\n",
    "Ns = np.linspace(1,N,N)\n",
    "\n",
    "Q_err = np.array(Qc_err) + np.array(Qh_err)\n",
    "Q_sum = np.array(Qc) + np.array(Qh)\n",
    "\n",
    "Qs_sum = np.array(Qc_sim) + np.array(Qh_sim)\n",
    "\n",
    "#QuTip\n",
    "axes.plot(Ns, Qs_sum, color='tab:red')\n",
    "axes.plot(Ns, W_sim, color='tab:green')\n",
    "\n",
    "axes.errorbar(Ns, Q_sum, yerr=Q_err, marker='.', linestyle='', color='tab:red', label='Q$_c$ + Q$_h$'\n",
    "             , markersize=8, elinewidth = 2)\n",
    "axes.errorbar(Ns, W, yerr=W_err, marker='.', linestyle='', color='tab:green', label='W'\n",
    "             , markersize=8, elinewidth = 2)\n",
    "axes.legend(loc=1);\n",
    "axes.set_xlabel('Nº cycles')\n",
    "axes.set_ylabel('Energy')\n",
    "axes.set_xticks([1,2,3,4,5,6,7,8])\n",
    "\n",
    "#yticks\n",
    "if system == \"heat_engine\":\n",
    "    axes.set_yticks([0,0.04,0.08,0.12,0.16,0.2])\n",
    "elif system == \"refrigerator\":\n",
    "    axes.set_yticks([-0.1,-0.05,0,0.05,0.1,0.15,0.2,0.25])\n",
    "elif system == \"heat_accelerator\":\n",
    "    axes.set_yticks([-0.12,-0.06,0,0.06,0.12,0.18,0.24,0.3])\n",
    "\n",
    "axes.ticklabel_format(axis=\"y\", style=\"sci\", scilimits=(0,0))\n",
    "\n",
    "plt.savefig(f'final_results/{engine}/{number}_{engine}_{date}_{back_str}_first_law.png', bbox_inches='tight')"
   ]
  },
  {
   "cell_type": "code",
   "execution_count": 87,
   "id": "18e7c5e2",
   "metadata": {},
   "outputs": [
    {
     "data": {
      "image/png": "[encoded data removed]",
      "text/plain": [
       "<Figure size 432x288 with 1 Axes>"
      ]
     },
     "metadata": {},
     "output_type": "display_data"
    }
   ],
   "source": [
    "fig, axes = plt.subplots(1,1)\n",
    "\n",
    "Ns = np.linspace(1,N,N)\n",
    "\n",
    "#QuTip\n",
    "axes.plot(Ns, Qc_sim, color='tab:blue')\n",
    "axes.plot(Ns, Qh_sim, color='tab:orange')\n",
    "axes.plot(Ns, W_sim, color='tab:green')\n",
    "#Qiskit\n",
    "axes.errorbar(Ns, Qc, yerr=Qc_err, marker='.', linestyle='', color='tab:blue', label='Q$_c$'\n",
    "              , markersize=8, elinewidth = 2)\n",
    "axes.errorbar(Ns, Qh, yerr=Qh_err, marker='.', linestyle='', color='tab:orange', label='Q$_h$'\n",
    "              , markersize=8, elinewidth = 2)\n",
    "axes.errorbar(Ns, W, yerr=W_err, marker='.', linestyle='', color='tab:green', label='W'\n",
    "              , markersize=8, elinewidth = 2)\n",
    "\n",
    "axes.set_xlabel('Nº cycles')\n",
    "axes.set_ylabel('Energy')\n",
    "axes.legend(loc=1);\n",
    "axes.set_xticks([1,2,3,4,5,6,7,8])\n",
    "\n",
    "#yticks\n",
    "if system == \"heat_engine\":\n",
    "    set_list = np.linspace(-0.05,0.15,9)\n",
    "    axes.set_yticks(set_list)\n",
    "elif system == \"refrigerator\":\n",
    "    set_list = np.linspace(-0.12,0.16,8)\n",
    "    axes.set_yticks(set_list)\n",
    "elif system == \"heat_accelerator\":\n",
    "    #axes.set_yticks([-0.03,0,0.03,0.06,0.09,0.12,0.15])\n",
    "    axes.set_yticks([-0.18, -0.12, -0.06, 0, 0.06, 0.12, 0.18])\n",
    "\n",
    "axes.ticklabel_format(axis=\"y\", style=\"sci\", scilimits=(0,0))\n",
    "\n",
    "plt.savefig(f'final_results/{system}/{number}_{system}_{date}_{back_str}.png', bbox_inches='tight')"
   ]
  }
 ],
 "metadata": {
  "kernelspec": {
   "display_name": "Python 3",
   "language": "python",
   "name": "python3"
  },
  "language_info": {
   "codemirror_mode": {
    "name": "ipython",
    "version": 3
   },
   "file_extension": ".py",
   "mimetype": "text/x-python",
   "name": "python",
   "nbconvert_exporter": "python",
   "pygments_lexer": "ipython3",
   "version": "3.9.7"
  }
 },
 "nbformat": 4,
 "nbformat_minor": 5
}
